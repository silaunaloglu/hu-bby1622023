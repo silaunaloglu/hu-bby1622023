{
  "nbformat": 4,
  "nbformat_minor": 0,
  "metadata": {
    "colab": {
      "provenance": [],
      "authorship_tag": "ABX9TyPSpjJOci2+3lZOAxGTZnf2",
      "include_colab_link": true
    },
    "kernelspec": {
      "name": "python3",
      "display_name": "Python 3"
    },
    "language_info": {
      "name": "python"
    }
  },
  "cells": [
    {
      "cell_type": "markdown",
      "metadata": {
        "id": "view-in-github",
        "colab_type": "text"
      },
      "source": [
        "<a href=\"https://colab.research.google.com/github/silaunaloglu/hu-bby1622023/blob/main/proje01.ipynb\" target=\"_parent\"><img src=\"https://colab.research.google.com/assets/colab-badge.svg\" alt=\"Open In Colab\"/></a>"
      ]
    },
    {
      "cell_type": "code",
      "execution_count": 1,
      "metadata": {
        "colab": {
          "base_uri": "https://localhost:8080/"
        },
        "id": "FELImRqA1MCD",
        "outputId": "edb75142-e7a0-415e-9845-c6915cd52d6f"
      },
      "outputs": [
        {
          "output_type": "stream",
          "name": "stdout",
          "text": [
            "['sac boyamak', 'ajanda doldurmak', 'alisverise gitmek']\n",
            "['sac boyamak', 'ajanda doldurmak', 'alisverise gitmek', 'okula gitmek']\n",
            "Lütfen eklenecek isi girin: 123\n",
            "['sac boyamak', 'ajanda doldurmak', 'alisverise gitmek', 'okula gitmek', '123']\n",
            "['sac boyamak', 'alisverise gitmek', 'okula gitmek', '123']\n",
            "[]\n"
          ]
        }
      ],
      "source": [
        "yapilacaklarlistesi = [\"sac boyamak\",\"ajanda doldurmak\",\"alisverise gitmek\"]\n",
        "print(yapilacaklarlistesi)\n",
        "\n",
        "#yeni iş eklemek\n",
        "yapilacaklarlistesi+=[\"okula gitmek\"]\n",
        "print(yapilacaklarlistesi)\n",
        "\n",
        "#input ile listeye ekleme yapmak\n",
        "girdi = input(\"Lütfen eklenecek isi girin: \")\n",
        "yapilacaklarlistesi.append(girdi)\n",
        "print(yapilacaklarlistesi)\n",
        "\n",
        "#1. ve 2. elemanı listeden silmek\n",
        "yapilacaklarlistesi[1:2]=[]\n",
        "print(yapilacaklarlistesi)\n",
        "\n",
        "#hepsini silmek\n",
        "yapilacaklarlistesi[:]=[]\n",
        "print(yapilacaklarlistesi)"
      ]
    }
  ]
}